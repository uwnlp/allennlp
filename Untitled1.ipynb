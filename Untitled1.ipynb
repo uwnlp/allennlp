{
 "cells": [
  {
   "cell_type": "code",
   "execution_count": 34,
   "metadata": {},
   "outputs": [],
   "source": [
    "import pandas as pd\n",
    "import seaborn as sns\n",
    "from sklearn.metrics import confusion_matrix as cm\n",
    "sns.set_style('whitegrid')\n",
    "import matplotlib.pyplot as plt\n",
    "from sklearn.dummy import DummyClassifier\n",
    "%matplotlib inline"
   ]
  },
  {
   "cell_type": "code",
   "execution_count": 31,
   "metadata": {},
   "outputs": [],
   "source": [
    "\n",
    "matched = pd.read_json('/Users/suchingururangan/Github/allennlp/matched_dev_output_full.json', lines=True)\n",
    "# easy_matched_c1_full = pd.read_json('/Users/suchingururangan/Github/allennlp/matched_dev_easy_with_threshold.json', lines=True)\n",
    "mismatched = pd.read_json('/Users/suchingururangan/Github/allennlp/mismatched_dev_output_full.json', lines=True)\n",
    "easy_matched = pd.read_json('/Users/suchingururangan/Github/allennlp/mnli_train_hard_test_matched_dev_easy.json', lines=True)\n",
    "easy_mismatched = pd.read_json('/Users/suchingururangan/Github/allennlp/mnli_train_hard_test_mismatched_dev_easy.json', lines=True)\n",
    "mnli_hard = pd.read_json('/Users/suchingururangan/Github/allennlp/mnli_train_hard_with_threshold.json', lines=True)\n",
    "\n",
    "classes = ['entailment', 'contradiction', 'neutral']\n",
    "matched_genres = ['travel', 'fiction', 'telephone', 'slate', 'government']\n",
    "mismatched_genres = ['letters', 'nineeleven', 'facetoface', 'oup', 'verbatim']"
   ]
  },
  {
   "cell_type": "code",
   "execution_count": 36,
   "metadata": {},
   "outputs": [
    {
     "data": {
      "text/plain": [
       "3906          neutral\n",
       "3809          neutral\n",
       "2329          neutral\n",
       "631        entailment\n",
       "1412    contradiction\n",
       "2676    contradiction\n",
       "3355          neutral\n",
       "1520          neutral\n",
       "3929       entailment\n",
       "2162    contradiction\n",
       "309           neutral\n",
       "2880       entailment\n",
       "1678    contradiction\n",
       "4575          neutral\n",
       "391        entailment\n",
       "4084    contradiction\n",
       "2434    contradiction\n",
       "1634       entailment\n",
       "4857          neutral\n",
       "4273          neutral\n",
       "1111       entailment\n",
       "4265       entailment\n",
       "423        entailment\n",
       "3266    contradiction\n",
       "288           neutral\n",
       "2550       entailment\n",
       "200           neutral\n",
       "2729       entailment\n",
       "1065    contradiction\n",
       "4909          neutral\n",
       "            ...      \n",
       "3516    contradiction\n",
       "2744    contradiction\n",
       "4025       entailment\n",
       "4953       entailment\n",
       "3970          neutral\n",
       "1034       entailment\n",
       "2176    contradiction\n",
       "1880          neutral\n",
       "4886       entailment\n",
       "3835    contradiction\n",
       "239           neutral\n",
       "3585          neutral\n",
       "449        entailment\n",
       "984           neutral\n",
       "2780       entailment\n",
       "4801       entailment\n",
       "2491    contradiction\n",
       "1700          neutral\n",
       "1794       entailment\n",
       "1860       entailment\n",
       "3548          neutral\n",
       "1129          neutral\n",
       "2732       entailment\n",
       "1150       entailment\n",
       "2549          neutral\n",
       "1138          neutral\n",
       "4284          neutral\n",
       "5033       entailment\n",
       "1084       entailment\n",
       "2449       entailment\n",
       "Name: gold_label, Length: 5074, dtype: object"
      ]
     },
     "execution_count": 36,
     "metadata": {},
     "output_type": "execute_result"
    }
   ],
   "source": []
  },
  {
   "cell_type": "code",
   "execution_count": null,
   "metadata": {
    "collapsed": true
   },
   "outputs": [],
   "source": [
    "def plot_confusion_matrix(pred_label, gold_label, labels):\n",
    "    array = cm(pred_label, gold_label, labels) \n",
    "    df_cm = pd.DataFrame(array, range(len(labels)), range(len(labels)))\n",
    "    sns.set(font_scale=1.4)#for label size\n",
    "    ax = sns.heatmap(df_cm, annot=True, cmap=sns.color_palette(\"Blues\", 10),  fmt='g')\n",
    "    _ = ax.set_xticklabels(labels)\n",
    "    _ = ax.set_yticklabels(labels)\n",
    "    plt.yticks(rotation=0) "
   ]
  },
  {
   "cell_type": "code",
   "execution_count": 54,
   "metadata": {},
   "outputs": [
    {
     "data": {
      "text/plain": [
       "0.33090264091446592"
      ]
     },
     "execution_count": 54,
     "metadata": {},
     "output_type": "execute_result"
    }
   ],
   "source": [
    "import numpy as np\n",
    "preds = np.random.choice(['entailment', 'contradiction', 'neutral'], size=easy_matched.shape[0])\n",
    "(preds == easy_matched.gold_label).sum() / (easy_matched.shape[0] )"
   ]
  },
  {
   "cell_type": "code",
   "execution_count": 32,
   "metadata": {},
   "outputs": [
    {
     "data": {
      "image/png": "[encoded data removed]",
      "text/plain": [
       "<matplotlib.figure.Figure at 0x116a735f8>"
      ]
     },
     "metadata": {},
     "output_type": "display_data"
    }
   ],
   "source": [
    "plot_confusion_matrix(easy_mismatched.prediction_label, easy_mismatched.gold_label, classes)"
   ]
  },
  {
   "cell_type": "code",
   "execution_count": 33,
   "metadata": {},
   "outputs": [
    {
     "data": {
      "text/plain": [
       "neutral          69606\n",
       "entailment       68284\n",
       "contradiction    63534\n",
       "Name: gold_label, dtype: int64"
      ]
     },
     "execution_count": 33,
     "metadata": {},
     "output_type": "execute_result"
    }
   ],
   "source": [
    "mnli_hard.gold_label.value_counts()"
   ]
  },
  {
   "cell_type": "code",
   "execution_count": null,
   "metadata": {
    "collapsed": true
   },
   "outputs": [],
   "source": [
    "plot_confusion_matrix(matched.prediction_label, matched.gold_label, classes)"
   ]
  }
 ],
 "metadata": {
  "kernelspec": {
   "display_name": "Python 3",
   "language": "python",
   "name": "python3"
  },
  "language_info": {
   "codemirror_mode": {
    "name": "ipython",
    "version": 3
   },
   "file_extension": ".py",
   "mimetype": "text/x-python",
   "name": "python",
   "nbconvert_exporter": "python",
   "pygments_lexer": "ipython3",
   "version": "3.6.2"
  }
 },
 "nbformat": 4,
 "nbformat_minor": 2
}
